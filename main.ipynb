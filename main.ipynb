{
 "cells": [
  {
   "cell_type": "code",
   "execution_count": 4,
   "metadata": {},
   "outputs": [],
   "source": [
    "import numpy as np\n",
    "import scipy\n",
    "\n",
    "\n",
    "# Generates a unit vector based on angles\n",
    "def get_v(thetas):\n",
    "    if thetas.shape[0]==0:\n",
    "        return np.array([1.0])\n",
    "    vp = get_v(thetas[1:])\n",
    "\n",
    "    # Concatenate the cosine of the first angle with the sine of the first angle multiplied by the rest\n",
    "    return np.concatenate([[np.cos(thetas[0])], np.sin(thetas[0])*vp])\n",
    " \n",
    "# Function to generate an orthogonal matrix based on input angles\n",
    "def get_orthogonal(thetas):\n",
    "    Q = get_v(thetas[0,:]).reshape(-1,1)\n",
    "    for i in range(1,thetas.shape[1]):\n",
    "        B = scipy.linalg.null_space(Q.T)\n",
    "        v = B@get_v(thetas[i,:-i])\n",
    "        v = v.reshape(-1,1)\n",
    "        Q = np.concatenate((Q,v),axis=1)\n",
    " \n",
    "    B = scipy.linalg.null_space(Q.T).reshape(-1,1)\n",
    "    Q = np.concatenate([Q,B],axis=1)\n",
    "    return Q\n",
    " \n",
    "# Function to generate a positive definite matrix given eigenvalues and angles\n",
    "def get_positive(eig_vals, thetas):\n",
    "  N = eig_vals.shape[0]\n",
    "  thetas_mat = np.zeros((N-1,N-1))\n",
    "  starting_idx = 0\n",
    "  for i in range(N-1):\n",
    "    thetas_mat[i,:N-i-1] = thetas[starting_idx: starting_idx + N - i -1]\n",
    "    starting_idx+=  + N - i -1\n",
    "  Q = get_orthogonal(thetas_mat)\n",
    "  L = np.diag(eig_vals)\n",
    "  return Q@L@Q.T\n",
    " "
   ]
  },
  {
   "cell_type": "code",
   "execution_count": 5,
   "metadata": {},
   "outputs": [
    {
     "data": {
      "text/plain": [
       "EigResult(eigenvalues=array([5., 3., 2.]), eigenvectors=array([[ 0.47703041, -0.87758256, -0.04786269],\n",
       "       [-0.86370099, -0.45801271, -0.21034483],\n",
       "       [-0.16267324, -0.14167993,  0.97645492]]))"
      ]
     },
     "execution_count": 5,
     "metadata": {},
     "output_type": "execute_result"
    }
   ],
   "source": [
    "Q = get_positive(np.array([3,5,2.0]),np.array([0.5,0.3,0.2]))\n",
    "\n",
    "np.linalg.eig(Q)"
   ]
  }
 ],
 "metadata": {
  "kernelspec": {
   "display_name": "num",
   "language": "python",
   "name": "python3"
  },
  "language_info": {
   "codemirror_mode": {
    "name": "ipython",
    "version": 3
   },
   "file_extension": ".py",
   "mimetype": "text/x-python",
   "name": "python",
   "nbconvert_exporter": "python",
   "pygments_lexer": "ipython3",
   "version": "3.12.3"
  }
 },
 "nbformat": 4,
 "nbformat_minor": 2
}
